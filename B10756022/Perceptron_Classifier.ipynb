{
 "cells": [
  {
   "cell_type": "code",
   "execution_count": 14,
   "metadata": {},
   "outputs": [],
   "source": [
    "import numpy as np\n",
    "import pandas as pd\n",
    "import random as rn\n",
    "\n",
    "class Perceptron(object):\n",
    "\n",
    "    def __init__(self, no_of_inputs, iterations=100, learning_rate=0.1):\n",
    "        self.iterations = iterations\n",
    "        self.weights = np.zeros(no_of_inputs + 1)\n",
    "        self.lr = learning_rate\n",
    "    \n",
    "    def randomize(self, X, y):\n",
    "        len1 = len(X)\n",
    "        idx = np.array(range(len1))\n",
    "        rn.shuffle(idx)\n",
    "        X = X[idx]\n",
    "        y = y[idx]\n",
    "        return X, y\n",
    "        \n",
    "    def predict(self, inputs):\n",
    "        \n",
    "        results = []\n",
    "        for item in inputs:\n",
    "            pred = np.dot(item, self.weights[1:]) + self.weights[0]  ## x1*w1+x2*w2+...xn*wn + b(bias)\n",
    "            results.append(np.sign(pred))\n",
    "        return results\n",
    "\n",
    "    def train(self, training_inputs, labels):\n",
    "        for _ in range(self.iterations):\n",
    "#             training_inputs, labels = self.randomize(training_inputs, labels)\n",
    "            for inputs, label in zip(training_inputs, labels):\n",
    "                prediction = self.predict([inputs])\n",
    "                \n",
    "#                 self.weights[1:] += lr (label - prediction) * inputs\n",
    "#                 self.weights[0] +=  (label - prediction)\n",
    "                \n",
    "                if prediction[0]*label<=0:\n",
    "                    self.weights[1:] += self.lr*np.dot(inputs, label)\n",
    "                    self.weights[0] +=  label"
   ]
  },
  {
   "cell_type": "code",
   "execution_count": 2,
   "metadata": {},
   "outputs": [
    {
     "name": "stdout",
     "output_type": "stream",
     "text": [
      "         ID Diagnosis      3      4       5       6        7        8       9  \\\n",
      "0    842302         M  17.99  10.38  122.80  1001.0  0.11840  0.27760  0.3001   \n",
      "1    842517         M  20.57  17.77  132.90  1326.0  0.08474  0.07864  0.0869   \n",
      "2  84300903         M  19.69  21.25  130.00  1203.0  0.10960  0.15990  0.1974   \n",
      "3  84348301         M  11.42  20.38   77.58   386.1  0.14250  0.28390  0.2414   \n",
      "4  84358402         M  20.29  14.34  135.10  1297.0  0.10030  0.13280  0.1980   \n",
      "\n",
      "        10  ...     23     24      25      26      27      28      29      30  \\\n",
      "0  0.14710  ...  25.38  17.33  184.60  2019.0  0.1622  0.6656  0.7119  0.2654   \n",
      "1  0.07017  ...  24.99  23.41  158.80  1956.0  0.1238  0.1866  0.2416  0.1860   \n",
      "2  0.12790  ...  23.57  25.53  152.50  1709.0  0.1444  0.4245  0.4504  0.2430   \n",
      "3  0.10520  ...  14.91  26.50   98.87   567.7  0.2098  0.8663  0.6869  0.2575   \n",
      "4  0.10430  ...  22.54  16.67  152.20  1575.0  0.1374  0.2050  0.4000  0.1625   \n",
      "\n",
      "       31  Unnamed: 31  \n",
      "0  0.4601      0.11890  \n",
      "1  0.2750      0.08902  \n",
      "2  0.3613      0.08758  \n",
      "3  0.6638      0.17300  \n",
      "4  0.2364      0.07678  \n",
      "\n",
      "[5 rows x 32 columns]\n"
     ]
    }
   ],
   "source": [
    "heart = pd.read_csv(\"data.csv\")\n",
    "print(heart.head())\n"
   ]
  },
  {
   "cell_type": "markdown",
   "metadata": {},
   "source": [
    "### Data preprocessing\n",
    "#### Remove ID and Label (diagnosis)"
   ]
  },
  {
   "cell_type": "code",
   "execution_count": 3,
   "metadata": {},
   "outputs": [],
   "source": [
    "X = heart.drop(['ID', 'Diagnosis'], axis=1)\n",
    "y = heart['Diagnosis']\n",
    "y = y.apply(lambda x: 1 if x=='M' else -1)"
   ]
  },
  {
   "cell_type": "code",
   "execution_count": null,
   "metadata": {},
   "outputs": [],
   "source": []
  },
  {
   "cell_type": "markdown",
   "metadata": {},
   "source": [
    "### Data partition"
   ]
  },
  {
   "cell_type": "code",
   "execution_count": 4,
   "metadata": {},
   "outputs": [],
   "source": [
    "from sklearn.model_selection import train_test_split\n",
    "X_train, X_test, y_train, y_test = train_test_split(X.values, y.values, test_size = 0.20)"
   ]
  },
  {
   "cell_type": "markdown",
   "metadata": {},
   "source": [
    "### Train on the training data using Perceptron"
   ]
  },
  {
   "cell_type": "code",
   "execution_count": 5,
   "metadata": {},
   "outputs": [],
   "source": [
    "perceptron = Perceptron(X_train.shape[1], iterations=100)\n",
    "perceptron.train(X_train, y_train)\n",
    "y_pred = perceptron.predict(X_test) \n"
   ]
  },
  {
   "cell_type": "code",
   "execution_count": 6,
   "metadata": {},
   "outputs": [
    {
     "name": "stdout",
     "output_type": "stream",
     "text": [
      "[[52 23]\n",
      " [ 2 37]]\n",
      "              precision    recall  f1-score   support\n",
      "\n",
      "          -1       0.96      0.69      0.81        75\n",
      "           1       0.62      0.95      0.75        39\n",
      "\n",
      "    accuracy                           0.78       114\n",
      "   macro avg       0.79      0.82      0.78       114\n",
      "weighted avg       0.84      0.78      0.79       114\n",
      "\n"
     ]
    }
   ],
   "source": [
    "from sklearn.metrics import classification_report, confusion_matrix\n",
    "print(confusion_matrix(y_test,y_pred))\n",
    "print(classification_report(y_test,y_pred))"
   ]
  },
  {
   "cell_type": "markdown",
   "metadata": {},
   "source": [
    "## Other example"
   ]
  },
  {
   "cell_type": "code",
   "execution_count": 37,
   "metadata": {},
   "outputs": [
    {
     "name": "stdout",
     "output_type": "stream",
     "text": [
      "[[65 13]\n",
      " [14 46]]\n",
      "              precision    recall  f1-score   support\n",
      "\n",
      "          -1       0.82      0.83      0.83        78\n",
      "           1       0.78      0.77      0.77        60\n",
      "\n",
      "    accuracy                           0.80       138\n",
      "   macro avg       0.80      0.80      0.80       138\n",
      "weighted avg       0.80      0.80      0.80       138\n",
      "\n"
     ]
    }
   ],
   "source": [
    "from sklearn import preprocessing\n",
    "normalized=True\n",
    "\n",
    "def convert(item, x):\n",
    "    return x.index(item)\n",
    "\n",
    "heart = pd.read_csv(\"crx.csv\")\n",
    "X = heart.drop(['att1', 'label'], axis=1)\n",
    "\n",
    "## For those the data are non-computatable types\n",
    "feat = ['att2', 'att4','att5','att6', 'att7', 'att9', 'att10', 'att12','att13','att14']\n",
    "for key in feat:\n",
    "    sets = list(np.unique(X[key].values)) # Check the minimal set\n",
    "    X[key] = X[key].apply(lambda x:convert(x, sets)) ## string==>int mapping\n",
    "y = heart['label']\n",
    "y = y.apply(lambda x: 1 if x=='+' else -1)\n",
    "# print(X)\n",
    "\n",
    "\n",
    "if normalized:\n",
    "    x = X.values #returns a numpy array\n",
    "    min_max_scaler = preprocessing.MinMaxScaler()\n",
    "    x_scaled = min_max_scaler.fit_transform(x)\n",
    "    X = pd.DataFrame(x_scaled)\n",
    "\n",
    "X_train, X_test, y_train, y_test = train_test_split(X.values, \n",
    "                                                    y.values, \n",
    "                                                    test_size = 0.20,\n",
    "                                                    random_state=666)\n",
    "\n",
    "\n",
    "perceptron = Perceptron(X_train.shape[1], iterations=5, \n",
    "                        learning_rate=0.01)\n",
    "perceptron.train(X_train, y_train)\n",
    "y_pred = perceptron.predict(X_test) \n",
    "\n",
    "\n",
    "from sklearn.metrics import classification_report, confusion_matrix\n",
    "print(confusion_matrix(y_test,y_pred))\n",
    "print(classification_report(y_test,y_pred))"
   ]
  },
  {
   "cell_type": "code",
   "execution_count": 32,
   "metadata": {},
   "outputs": [
    {
     "data": {
      "image/png": "[encoded data removed]",
      "text/plain": [
       "<Figure size 432x288 with 1 Axes>"
      ]
     },
     "metadata": {
      "needs_background": "light"
     },
     "output_type": "display_data"
    }
   ],
   "source": [
    "from sklearn.metrics import accuracy_score as accuracy\n",
    "from matplotlib import pyplot as plt\n",
    "\n",
    "acclist = []\n",
    "for iters in range(5, 100, 5):\n",
    "    perceptron = Perceptron(X_train.shape[1], iterations=iters, \n",
    "                            learning_rate=0.01)\n",
    "    perceptron.train(X_train, y_train)\n",
    "    y_pred = perceptron.predict(X_test) \n",
    "\n",
    "    acclist.append(accuracy(y_test,y_pred))\n",
    "    \n",
    "plt.plot(range(5, 100, 5), acclist)\n",
    "plt.show()"
   ]
  },
  {
   "cell_type": "code",
   "execution_count": 35,
   "metadata": {},
   "outputs": [
    {
     "data": {
      "image/png": "[encoded data removed]",
      "text/plain": [
       "<Figure size 432x288 with 1 Axes>"
      ]
     },
     "metadata": {
      "needs_background": "light"
     },
     "output_type": "display_data"
    }
   ],
   "source": [
    "acclist = []\n",
    "for lrs in [1,0.9,0.8,0.5,0.3,0.1,0.05,0.01,0.001,0.0001]:\n",
    "    perceptron = Perceptron(X_train.shape[1], iterations=17, \n",
    "                            learning_rate=lrs)\n",
    "    perceptron.train(X_train, y_train)\n",
    "    y_pred = perceptron.predict(X_test) \n",
    "\n",
    "    acclist.append(accuracy(y_test,y_pred))\n",
    "    \n",
    "plt.plot([1,0.9,0.8,0.5,0.3,0.1,0.05,0.01,0.001,0.0001], acclist)\n",
    "plt.show()"
   ]
  }
 ],
 "metadata": {
  "kernelspec": {
   "display_name": "Python 3",
   "language": "python",
   "name": "python3"
  },
  "language_info": {
   "codemirror_mode": {
    "name": "ipython",
    "version": 3
   },
   "file_extension": ".py",
   "mimetype": "text/x-python",
   "name": "python",
   "nbconvert_exporter": "python",
   "pygments_lexer": "ipython3",
   "version": "3.8.3"
  }
 },
 "nbformat": 4,
 "nbformat_minor": 2
}
